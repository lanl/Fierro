{
 "cells": [
  {
   "cell_type": "code",
   "execution_count": null,
   "id": "34adf3f3-a902-4736-93ff-1d0394da54a1",
   "metadata": {},
   "outputs": [],
   "source": [
    "import matplotlib.pyplot as plt\n",
    "import numpy as np\n",
    "\n",
    "m_values = [values, go, here]\n",
    "results = [results, go, here]\n",
    "exact_solution = whatever\n",
    "\n",
    "plt.figure(figsize=(8, 6))\n",
    "plt.plot(m_values, results, marker='o', linestyle='-', linewidth=2, color='black', label='Estimated Volume')\n",
    "plt.axhline(y=exact_solution, color='red', linestyle='--', linewidth=2, label='Exact Solution (whatever)'.format(exact_solution))\n",
    "plt.xscale('log', base=2)\n",
    "plt.xticks(m_values, labels=[str(m) for m in m_values])\n",
    "plt.ylim(0.49, 0.53)\n",
    "plt.xlabel('Number of Particles Used')\n",
    "plt.ylabel('Volume of the Object')\n",
    "plt.title('Cone/Cube Convergence')\n",
    "plt.grid(True, which='both', linestyle='--', alpha=0.6)\n",
    "plt.legend()\n",
    "plt.tight_layout()\n",
    "plt.savefig('Cone_Convergence.png', dpi=300)\n",
    "plt.show()"
   ]
  }
 ],
 "metadata": {
  "kernelspec": {
   "display_name": "Python 3 (ipykernel)",
   "language": "python",
   "name": "python3"
  },
  "language_info": {
   "codemirror_mode": {
    "name": "ipython",
    "version": 3
   },
   "file_extension": ".py",
   "mimetype": "text/x-python",
   "name": "python",
   "nbconvert_exporter": "python",
   "pygments_lexer": "ipython3",
   "version": "3.11.7"
  }
 },
 "nbformat": 4,
 "nbformat_minor": 5
}
