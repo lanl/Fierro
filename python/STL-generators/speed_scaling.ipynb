{
 "cells": [
  {
   "cell_type": "code",
   "execution_count": null,
   "id": "c187f1a0-da9e-46fc-a594-07e679dce57a",
   "metadata": {},
   "outputs": [],
   "source": [
    "from stl import mesh\n",
    "\n",
    "def count_triangles(stl_file_path):\n",
    "    try:\n",
    "        your_mesh = mesh.Mesh.from_file(stl_file_path)\n",
    "        num_triangles = len(your_mesh.vectors)\n",
    "        print(f\"The Number of triangles in '{stl_file_path}': {num_triangles}\")\n",
    "        return num_triangles\n",
    "    except Exception as e:\n",
    "        print(f\"There was an error reading the STL file: {e}\")\n",
    "        return -1\n",
    "\n",
    "stl_path = r\"\\\\path\\to\\the\\STL\\file.stl\" # Path to the stl file\n",
    "count_triangles(stl_path)"
   ]
  },
  {
   "cell_type": "code",
   "execution_count": null,
   "id": "235f29fb-6e00-4e3c-a12b-40bdaf0e1f79",
   "metadata": {},
   "outputs": [],
   "source": [
    "import numpy as np\n",
    "import matplotlib.pyplot as plt\n",
    "\n",
    "threads = np.array([thread, counts, go, here]) # thread counts for the data\n",
    "\n",
    "runtime = {\n",
    "    1: np.array([data, goes, here]), # runtime data (ms)\n",
    "    2: np.array([data, goes, here]), # for \n",
    "    4: np.array([data, goes, here]), # each\n",
    "    6: np.array([data, goes, here]), # thread\n",
    "    8: np.array([data, goes, here]), # count\n",
    "}\n",
    "\n",
    "m_vals = [values, go, here] # m values to be plotted\n",
    "\n",
    "for idx, m in enumerate(m_vals):\n",
    "    y = np.array([runtime[t][idx] for t in threads]) # Pick the runtime for this m across the chosen thread counts\n",
    "    ideal = y[0] / threads # The Ideal curve, it halves each time that the thread count doubles\n",
    "    plt.figure(figsize=(6, 4))\n",
    "    plt.plot(threads, y,  marker='o', linewidth=2, label='runtime (ms)')\n",
    "    plt.plot(threads, ideal, 'k--', linewidth=2, label='Ideal')\n",
    "    plt.title(f'm = {m}')\n",
    "    plt.xlabel('Threads')\n",
    "    plt.ylabel('Runtime (ms)')\n",
    "    plt.xticks(threads)\n",
    "    plt.grid(True, linestyle='--', alpha=0.6)\n",
    "    plt.legend()\n",
    "    plt.tight_layout()\n",
    "    plt.savefig(f'runtime_vs_threads_m{m}.png', dpi=300) # saves each figure\n",
    "    plt.show()"
   ]
  },
  {
   "cell_type": "code",
   "execution_count": null,
   "id": "80f1a137-e486-4157-ba9a-c1a30d2c2811",
   "metadata": {},
   "outputs": [],
   "source": [
    "import numpy as np\n",
    "import matplotlib.pyplot as plt\n",
    "\n",
    "threads = np.array([thread, counts, go, here]) # thread counts for the data\n",
    "\n",
    "runtime = {\n",
    "    1: np.array([data, goes, here]), # runtime data (ms)\n",
    "    2: np.array([data, goes, here]), # for \n",
    "    4: np.array([data, goes, here]), # each\n",
    "    6: np.array([data, goes, here]), # thread\n",
    "    8: np.array([data, goes, here]), # count\n",
    "}\n",
    "\n",
    "m_vals = [values, go, here] # m values to be plotted\n",
    "\n",
    "for m in m_vals:\n",
    "    y = np.array([runtime[t][m_vals.index(m)] for t in threads]) # Runtimes for m across threads\n",
    "    ideal = y[0] / threads # The Ideal curve, it halves each time that the thread count doubles\n",
    "    plt.figure(figsize=(6, 4))\n",
    "    plt.plot(threads, y, 'o-', lw=2, label='runtime (ms)')\n",
    "    plt.plot(threads, ideal, 'k--', lw=2, label='Ideal')\n",
    "    plt.xscale('log', base=2) # log2-log2 scaling\n",
    "    plt.yscale('log', base=2) # log2-log2 scaling\n",
    "    plt.xticks(threads, threads)\n",
    "    plt.title(f'm = {m}')\n",
    "    plt.xlabel('Threads')\n",
    "    plt.ylabel('Runtime (ms)')\n",
    "    plt.grid(True, which='both', linestyle='--', alpha=0.6)\n",
    "    plt.legend()\n",
    "    plt.tight_layout()\n",
    "    plt.show()"
   ]
  }
 ],
 "metadata": {
  "kernelspec": {
   "display_name": "Python 3 (ipykernel)",
   "language": "python",
   "name": "python3"
  },
  "language_info": {
   "codemirror_mode": {
    "name": "ipython",
    "version": 3
   },
   "file_extension": ".py",
   "mimetype": "text/x-python",
   "name": "python",
   "nbconvert_exporter": "python",
   "pygments_lexer": "ipython3",
   "version": "3.11.7"
  }
 },
 "nbformat": 4,
 "nbformat_minor": 5
}
